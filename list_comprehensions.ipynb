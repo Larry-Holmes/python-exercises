{
 "cells": [
  {
   "cell_type": "code",
   "execution_count": 8,
   "id": "f6d29d34",
   "metadata": {},
   "outputs": [],
   "source": [
    "fruits = ['mango', 'kiwi', 'strawberry', 'guava', 'pineapple', 'madarin orange']"
   ]
  },
  {
   "cell_type": "code",
   "execution_count": 9,
   "id": "16aacda3",
   "metadata": {},
   "outputs": [],
   "source": [
    "numbers = [2, 3, 4, 5, 6, 7, 8, 9, 10, 11, 13, 17, 19, 23, 256, -8, -4, -2, 5, -9]"
   ]
  },
  {
   "cell_type": "code",
   "execution_count": 6,
   "id": "bc83677e",
   "metadata": {},
   "outputs": [
    {
     "name": "stdout",
     "output_type": "stream",
     "text": [
      "['MANGO', 'KIWI', 'STRAWBERRY', 'GUAVA', 'PINEAPPLE', 'MADARIN ORANGE']\n"
     ]
    }
   ],
   "source": [
    "# exercise 1\n",
    "output = []\n",
    "for fruit in fruits:\n",
    "    output.append(fruit.upper())\n",
    "print(output)"
   ]
  },
  {
   "cell_type": "code",
   "execution_count": 11,
   "id": "bed31b98",
   "metadata": {},
   "outputs": [
    {
     "name": "stdout",
     "output_type": "stream",
     "text": [
      "['Mango', 'Kiwi', 'Strawberry', 'Guava', 'Pineapple', 'Madarin orange']\n"
     ]
    }
   ],
   "source": [
    "# exercise 2\n",
    "capitalized_fruits = []\n",
    "for fruit in fruits:\n",
    "    capitalized_fruits.append(fruit.capitalize())\n",
    "print(capitalized_fruits)"
   ]
  },
  {
   "cell_type": "code",
   "execution_count": 15,
   "id": "18b16b39",
   "metadata": {},
   "outputs": [
    {
     "name": "stdout",
     "output_type": "stream",
     "text": [
      "['guava', 'pineapple', 'madarin orange']\n"
     ]
    }
   ],
   "source": [
    "# exercise 3\n",
    "fruits_with_more_than_two_vowels = []\n",
    "\n",
    "def vowel_check(x):\n",
    "    vowels = 'aeiouAEIOU'\n",
    "    count = 0\n",
    "    for vowel in vowels:\n",
    "        count += x.count(vowel)\n",
    "    if count > 2:\n",
    "        return True\n",
    "    return False\n",
    "for fruit in fruits:\n",
    "    if vowel_check(fruit):\n",
    "        fruits_with_more_than_two_vowels.append(fruit)\n",
    "print(fruits_with_more_than_two_vowels)\n",
    "        \n",
    "    "
   ]
  },
  {
   "cell_type": "code",
   "execution_count": 17,
   "id": "b7d71122",
   "metadata": {},
   "outputs": [
    {
     "name": "stdout",
     "output_type": "stream",
     "text": [
      "['mango', 'kiwi', 'strawberry']\n"
     ]
    }
   ],
   "source": [
    "# exercise 4\n",
    "fruits_with_only_two_vowels = []\n",
    "def vowel_check(x):\n",
    "    vowels = 'aeiouAEIOU'\n",
    "    count = 0\n",
    "    for vowel in vowels:\n",
    "        count += x.count(vowel)\n",
    "    if count == 2:\n",
    "        return True\n",
    "    return False\n",
    "for fruit in fruits:\n",
    "    if vowel_check(fruit):\n",
    "        fruits_with_only_two_vowels.append(fruit)\n",
    "print(fruits_with_only_two_vowels)"
   ]
  },
  {
   "cell_type": "code",
   "execution_count": 19,
   "id": "8afb9a44",
   "metadata": {},
   "outputs": [
    {
     "name": "stdout",
     "output_type": "stream",
     "text": [
      "['strawberry', 'pineapple', 'madarin orange']\n"
     ]
    }
   ],
   "source": [
    "# exercise 5\n",
    "fruits_with_more_than_five = []\n",
    "def character_check(x):\n",
    "    if len(x) > 5:\n",
    "        return True\n",
    "    return False\n",
    "for fruit in fruits:\n",
    "    if character_check(fruit):\n",
    "        fruits_with_more_than_five.append(fruit)\n",
    "print(fruits_with_more_than_five)"
   ]
  },
  {
   "cell_type": "code",
   "execution_count": 20,
   "id": "64ab52d6",
   "metadata": {},
   "outputs": [
    {
     "name": "stdout",
     "output_type": "stream",
     "text": [
      "['mango', 'guava']\n"
     ]
    }
   ],
   "source": [
    "# exercise 6\n",
    "fruits_with_five = []\n",
    "def character_check(x):\n",
    "    if len(x) == 5:\n",
    "        return True\n",
    "    return False\n",
    "for fruit in fruits:\n",
    "    if character_check(fruit):\n",
    "        fruits_with_five.append(fruit)\n",
    "print(fruits_with_five)"
   ]
  },
  {
   "cell_type": "code",
   "execution_count": 21,
   "id": "6e3e039a",
   "metadata": {},
   "outputs": [
    {
     "name": "stdout",
     "output_type": "stream",
     "text": [
      "['kiwi']\n"
     ]
    }
   ],
   "source": [
    "# exercise 7\n",
    "fruits_with_less_than_five = []\n",
    "def character_check(x):\n",
    "    if len(x) < 5:\n",
    "        return True\n",
    "    return False\n",
    "for fruit in fruits:\n",
    "    if character_check(fruit):\n",
    "        fruits_with_less_than_five.append(fruit)\n",
    "print(fruits_with_less_than_five)"
   ]
  },
  {
   "cell_type": "code",
   "execution_count": 22,
   "id": "c0baf0e3",
   "metadata": {},
   "outputs": [
    {
     "name": "stdout",
     "output_type": "stream",
     "text": [
      "[5, 4, 10, 5, 9, 14]\n"
     ]
    }
   ],
   "source": [
    "# exercise 8\n",
    "characters_in_fruit = []\n",
    "for fruit in fruits:\n",
    "    characters_in_fruit.append(len(fruit))\n",
    "print(characters_in_fruit)"
   ]
  },
  {
   "cell_type": "code",
   "execution_count": 24,
   "id": "d3591f0e",
   "metadata": {},
   "outputs": [
    {
     "name": "stdout",
     "output_type": "stream",
     "text": [
      "['mango', 'strawberry', 'guava', 'pineapple', 'madarin orange']\n"
     ]
    }
   ],
   "source": [
    "# exercise 9\n",
    "fruits_with_letter_a = []\n",
    "def check_for_a(x):\n",
    "    if x.count('a') >= 1:\n",
    "        return True\n",
    "    return False\n",
    "for fruit in fruits:\n",
    "    if check_for_a(fruit):\n",
    "        fruits_with_letter_a.append(fruit)\n",
    "print(fruits_with_letter_a)"
   ]
  },
  {
   "cell_type": "code",
   "execution_count": 25,
   "id": "e330a8b6",
   "metadata": {},
   "outputs": [
    {
     "name": "stdout",
     "output_type": "stream",
     "text": [
      "[2, 4, 6, 8, 10, 256, -8, -4, -2]\n"
     ]
    }
   ],
   "source": [
    "# exercise 10\n",
    "even_numbers = []\n",
    "def check_evens(x):\n",
    "    if x % 2 == 0:\n",
    "        return True\n",
    "    return False\n",
    "for number in numbers:\n",
    "    if check_evens(number):\n",
    "        even_numbers.append(number)\n",
    "print(even_numbers)"
   ]
  },
  {
   "cell_type": "code",
   "execution_count": 26,
   "id": "efa32cce",
   "metadata": {},
   "outputs": [
    {
     "name": "stdout",
     "output_type": "stream",
     "text": [
      "[3, 5, 7, 9, 11, 13, 17, 19, 23, 5, -9]\n"
     ]
    }
   ],
   "source": [
    "# exercise 11\n",
    "odd_numbers = []\n",
    "def check_odds(x):\n",
    "    if x % 2 != 0:\n",
    "        return True\n",
    "    return False\n",
    "for number in numbers:\n",
    "    if check_odds(number):\n",
    "        odd_numbers.append(number)\n",
    "print(odd_numbers)"
   ]
  },
  {
   "cell_type": "code",
   "execution_count": 27,
   "id": "3768936f",
   "metadata": {},
   "outputs": [
    {
     "name": "stdout",
     "output_type": "stream",
     "text": [
      "[2, 3, 4, 5, 6, 7, 8, 9, 10, 11, 13, 17, 19, 23, 256, 5]\n"
     ]
    }
   ],
   "source": [
    "# exercise 12\n",
    "positive_numbers = []\n",
    "def check_positives(x):\n",
    "    if x >= 0:\n",
    "        return True\n",
    "    return False\n",
    "for number in numbers:\n",
    "    if check_positives(number):\n",
    "        positive_numbers.append(number)\n",
    "print(positive_numbers)"
   ]
  },
  {
   "cell_type": "code",
   "execution_count": 28,
   "id": "e7525bb0",
   "metadata": {},
   "outputs": [
    {
     "name": "stdout",
     "output_type": "stream",
     "text": [
      "[-8, -4, -2, -9]\n"
     ]
    }
   ],
   "source": [
    "# exercise 13\n",
    "negative_numbers = []\n",
    "def check_negatives(x):\n",
    "    if x < 0:\n",
    "        return True\n",
    "    return False\n",
    "for number in numbers:\n",
    "    if check_negatives(number):\n",
    "        negative_numbers.append(number)\n",
    "print(negative_numbers)"
   ]
  },
  {
   "cell_type": "code",
   "execution_count": 32,
   "id": "36fad472",
   "metadata": {},
   "outputs": [
    {
     "name": "stdout",
     "output_type": "stream",
     "text": [
      "[10, 11, 13, 17, 19, 23, 256]\n"
     ]
    }
   ],
   "source": [
    "# exercise 14\n",
    "multiple_numerals = []\n",
    "def check_numerals(x):\n",
    "    if len(str(abs(x))) >= 2:\n",
    "        return True\n",
    "    return False\n",
    "for number in numbers:\n",
    "    if check_numerals(number):\n",
    "        multiple_numerals.append(number)\n",
    "print(multiple_numerals)"
   ]
  },
  {
   "cell_type": "code",
   "execution_count": 33,
   "id": "53c1ddb7",
   "metadata": {},
   "outputs": [
    {
     "name": "stdout",
     "output_type": "stream",
     "text": [
      "[4, 9, 16, 25, 36, 49, 64, 81, 100, 121, 169, 289, 361, 529, 65536, 64, 16, 4, 25, 81]\n"
     ]
    }
   ],
   "source": [
    "# exercise 15\n",
    "numbers_squared = []\n",
    "for number in numbers:\n",
    "    numbers_squared.append(number *number)\n",
    "print(numbers_squared)"
   ]
  },
  {
   "cell_type": "code",
   "execution_count": 35,
   "id": "6adeed24",
   "metadata": {},
   "outputs": [
    {
     "name": "stdout",
     "output_type": "stream",
     "text": [
      "[-9]\n"
     ]
    }
   ],
   "source": [
    "# exercise 16\n",
    "odd_negative_numbers = []\n",
    "for number in numbers:\n",
    "    if number < 0 and number % 2 != 0:\n",
    "        odd_negative_numbers.append(number)\n",
    "print(odd_negative_numbers)"
   ]
  },
  {
   "cell_type": "code",
   "execution_count": 36,
   "id": "d6f2439c",
   "metadata": {},
   "outputs": [
    {
     "name": "stdout",
     "output_type": "stream",
     "text": [
      "[7, 8, 9, 10, 11, 12, 13, 14, 15, 16, 18, 22, 24, 28, 261, -3, 1, 3, 10, -4]\n"
     ]
    }
   ],
   "source": [
    "# exercise 17\n",
    "numbers_plus_5 = []\n",
    "for number in numbers:\n",
    "    numbers_plus_5.append(number +5)\n",
    "print(numbers_plus_5)"
   ]
  },
  {
   "cell_type": "code",
   "execution_count": null,
   "id": "458c9995",
   "metadata": {},
   "outputs": [],
   "source": [
    "# bonus\n",
    "primes = []\n"
   ]
  }
 ],
 "metadata": {
  "kernelspec": {
   "display_name": "Python 3 (ipykernel)",
   "language": "python",
   "name": "python3"
  },
  "language_info": {
   "codemirror_mode": {
    "name": "ipython",
    "version": 3
   },
   "file_extension": ".py",
   "mimetype": "text/x-python",
   "name": "python",
   "nbconvert_exporter": "python",
   "pygments_lexer": "ipython3",
   "version": "3.9.12"
  }
 },
 "nbformat": 4,
 "nbformat_minor": 5
}
