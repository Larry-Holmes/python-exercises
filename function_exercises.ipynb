{
 "cells": [
  {
   "cell_type": "code",
   "execution_count": 7,
   "id": "c20732b3",
   "metadata": {},
   "outputs": [],
   "source": [
    "# exercise 1\n",
    "\n",
    "def is_two(x):\n",
    "    '''\n",
    "    is_two:\n",
    "    parameters: x, requires a numerical value\n",
    "    function is_two will return boolean value dependent\n",
    "    on the variable x being 2 or not.\n",
    "    '''\n",
    "    if x == 2 or x == '2':\n",
    "        return True\n",
    "    else:\n",
    "        return False"
   ]
  },
  {
   "cell_type": "code",
   "execution_count": 3,
   "id": "77f3543f",
   "metadata": {},
   "outputs": [
    {
     "data": {
      "text/plain": [
       "True"
      ]
     },
     "execution_count": 3,
     "metadata": {},
     "output_type": "execute_result"
    }
   ],
   "source": [
    "is_two(2)"
   ]
  },
  {
   "cell_type": "code",
   "execution_count": 4,
   "id": "ed9af9a2",
   "metadata": {},
   "outputs": [
    {
     "data": {
      "text/plain": [
       "False"
      ]
     },
     "execution_count": 4,
     "metadata": {},
     "output_type": "execute_result"
    }
   ],
   "source": [
    "is_two(5)"
   ]
  },
  {
   "cell_type": "code",
   "execution_count": 8,
   "id": "928953a1",
   "metadata": {},
   "outputs": [],
   "source": [
    "is_two?"
   ]
  },
  {
   "cell_type": "code",
   "execution_count": 29,
   "id": "55a991cf",
   "metadata": {},
   "outputs": [],
   "source": [
    "# exercise 2\n",
    "\n",
    "def is_vowel(x):\n",
    "    '''\n",
    "    is_vowel:\n",
    "    parameter: x, a string value\n",
    "    returns: true if x is a vowel, false if x is anything else\n",
    "    '''\n",
    "    vowel = ['a', 'e', 'i', 'o', 'u']\n",
    "    for v in vowel:\n",
    "        if x.lower() == v:\n",
    "            return True\n",
    "    return False"
   ]
  },
  {
   "cell_type": "code",
   "execution_count": 28,
   "id": "61d7b6a6",
   "metadata": {},
   "outputs": [
    {
     "data": {
      "text/plain": [
       "True"
      ]
     },
     "execution_count": 28,
     "metadata": {},
     "output_type": "execute_result"
    }
   ],
   "source": [
    "is_vowel('O')"
   ]
  },
  {
   "cell_type": "code",
   "execution_count": 33,
   "id": "3807fb3e",
   "metadata": {},
   "outputs": [],
   "source": [
    "# exercise 3\n",
    "\n",
    "def is_consonant(x):\n",
    "    '''\n",
    "    is_consonant:\n",
    "    parameters: x, a string value\n",
    "    returns: true if x is a constant, false if x is anything else\n",
    "    '''\n",
    "    vowel = ['a', 'e', 'i', 'o', 'u']\n",
    "    for v in vowel:\n",
    "        if x.lower() == v:\n",
    "            return False\n",
    "    return True"
   ]
  },
  {
   "cell_type": "code",
   "execution_count": 34,
   "id": "6fb744d9",
   "metadata": {},
   "outputs": [
    {
     "data": {
      "text/plain": [
       "True"
      ]
     },
     "execution_count": 34,
     "metadata": {},
     "output_type": "execute_result"
    }
   ],
   "source": [
    "is_consonant('g')"
   ]
  },
  {
   "cell_type": "code",
   "execution_count": 42,
   "id": "52ef5143",
   "metadata": {},
   "outputs": [],
   "source": [
    "# exercise 4\n",
    "\n",
    "def cap_consonant(x):\n",
    "    '''\n",
    "    cap_consonant:\n",
    "    parameters: x, a string that is a word\n",
    "    returns: x with its first letter capitalized if it starts with a consonant\n",
    "    '''\n",
    "    vowel = ['a', 'e', 'i', 'o', 'u']\n",
    "    f_character = x[0]\n",
    "    for v in vowel:\n",
    "        if f_character.lower() == v:\n",
    "            return 'Invalid String'\n",
    "    x = x.capitalize()\n",
    "    return x"
   ]
  },
  {
   "cell_type": "code",
   "execution_count": 43,
   "id": "3b7a2fc7",
   "metadata": {},
   "outputs": [
    {
     "data": {
      "text/plain": [
       "'Invalid String'"
      ]
     },
     "execution_count": 43,
     "metadata": {},
     "output_type": "execute_result"
    }
   ],
   "source": [
    "cap_consonant('amnesia')"
   ]
  },
  {
   "cell_type": "code",
   "execution_count": 60,
   "id": "ca2f6c53",
   "metadata": {},
   "outputs": [],
   "source": [
    "# exercise 5\n",
    "\n",
    "def calculate_tip(x, y):\n",
    "    '''\n",
    "    calculate_tip:\n",
    "    parameters: (x [a numerical value between 0 and 1] , y [the bill total])\n",
    "    returns: new numerical value representing total tip amount\n",
    "    '''\n",
    "    x = x/100\n",
    "    tip_amount = format(x * y, '.2f')\n",
    "    return f'${tip_amount}'\n",
    "    "
   ]
  },
  {
   "cell_type": "code",
   "execution_count": 61,
   "id": "a7b00d18",
   "metadata": {},
   "outputs": [
    {
     "data": {
      "text/plain": [
       "'$4.57'"
      ]
     },
     "execution_count": 61,
     "metadata": {},
     "output_type": "execute_result"
    }
   ],
   "source": [
    "calculate_tip(15,30.46)"
   ]
  },
  {
   "cell_type": "code",
   "execution_count": 63,
   "id": "d53dc8bc",
   "metadata": {},
   "outputs": [],
   "source": [
    "#  exercise 6\n",
    "\n",
    "def apply_discount(x, y):\n",
    "    '''\n",
    "    apply_discount:\n",
    "    parameters: (x [original price], y [discount percentage])\n",
    "    returns: a new numerical value representing the price after discount is applied\n",
    "    '''\n",
    "    \n",
    "    y = y/100\n",
    "    disc_amount = x * y\n",
    "    new_amount = format(x - disc_amount, '.2f')\n",
    "    return f'${new_amount}'"
   ]
  },
  {
   "cell_type": "code",
   "execution_count": 64,
   "id": "60693bf3",
   "metadata": {},
   "outputs": [
    {
     "data": {
      "text/plain": [
       "'$18.00'"
      ]
     },
     "execution_count": 64,
     "metadata": {},
     "output_type": "execute_result"
    }
   ],
   "source": [
    "apply_discount(20, 10)"
   ]
  },
  {
   "cell_type": "code",
   "execution_count": 69,
   "id": "eca8d2c9",
   "metadata": {},
   "outputs": [],
   "source": [
    "# exercise 7\n",
    "\n",
    "def handle_commas(x):\n",
    "    '''\n",
    "    handle_commas:\n",
    "    parameters: x, a string that is a number that contains commas in it\n",
    "    returns: x as an integer\n",
    "    '''\n",
    "    x = x.replace(',','')\n",
    "    x = int(x)\n",
    "    return x"
   ]
  },
  {
   "cell_type": "code",
   "execution_count": 71,
   "id": "24356740",
   "metadata": {},
   "outputs": [
    {
     "data": {
      "text/plain": [
       "4123234123"
      ]
     },
     "execution_count": 71,
     "metadata": {},
     "output_type": "execute_result"
    }
   ],
   "source": [
    "handle_commas('4,123,234,123')"
   ]
  },
  {
   "cell_type": "code",
   "execution_count": 72,
   "id": "3938f0c5",
   "metadata": {},
   "outputs": [],
   "source": [
    "# exercise 8\n",
    "\n",
    "def get_letter_grade(x):\n",
    "    '''\n",
    "    get_letter_grade:\n",
    "    parameters: x, a numerical value representing a grade\n",
    "    returns: x as a string variant of its numerical value\n",
    "    '''\n",
    "    if x > 89:\n",
    "        return 'A'\n",
    "    elif x > 79:\n",
    "        return 'B'\n",
    "    elif x > 69:\n",
    "        return 'C'\n",
    "    elif x > 59:\n",
    "        return 'D'\n",
    "    else:\n",
    "        return 'F'"
   ]
  },
  {
   "cell_type": "code",
   "execution_count": 76,
   "id": "d4fbc87d",
   "metadata": {},
   "outputs": [
    {
     "data": {
      "text/plain": [
       "'A'"
      ]
     },
     "execution_count": 76,
     "metadata": {},
     "output_type": "execute_result"
    }
   ],
   "source": [
    "get_letter_grade(94)"
   ]
  },
  {
   "cell_type": "code",
   "execution_count": 81,
   "id": "78353a72",
   "metadata": {},
   "outputs": [],
   "source": [
    "# exercise 9\n",
    "\n",
    "def remove_vowels(x):\n",
    "    '''\n",
    "    remove_vowels:\n",
    "    parameters: x, a string\n",
    "    returns: a string with no vowels\n",
    "    '''\n",
    "    \n",
    "    for v in x:\n",
    "        if v.lower() == 'a':\n",
    "            x = x.replace(v, '')\n",
    "        elif v.lower() == 'e':\n",
    "            x = x.replace(v, '')\n",
    "        elif v.lower() == 'i':\n",
    "            x = x.replace(v, '')\n",
    "        elif v.lower() == 'o':\n",
    "            x = x.replace(v, '')\n",
    "        elif v.lower() == 'u':\n",
    "            x = x.replace(v, '')\n",
    "    return x"
   ]
  },
  {
   "cell_type": "code",
   "execution_count": 82,
   "id": "c0b5514b",
   "metadata": {},
   "outputs": [
    {
     "data": {
      "text/plain": [
       "'ncnd'"
      ]
     },
     "execution_count": 82,
     "metadata": {},
     "output_type": "execute_result"
    }
   ],
   "source": [
    "remove_vowels('Anaconda')"
   ]
  },
  {
   "cell_type": "code",
   "execution_count": 95,
   "id": "2abd6621",
   "metadata": {},
   "outputs": [],
   "source": [
    "# exercise 10\n",
    "\n",
    "def normalize_name(x):\n",
    "    '''\n",
    "    normalize_name:\n",
    "    parameters: x, a string\n",
    "    returns: a valid python identifier\n",
    "    '''\n",
    "    for i in x:\n",
    "        if i.isalnum() == False:\n",
    "            x = x.replace(i, '')\n",
    "    x = x.strip()\n",
    "    x = x.lower()\n",
    "    x = x.replace(' ', '_')\n",
    "    return x"
   ]
  },
  {
   "cell_type": "code",
   "execution_count": 96,
   "id": "5d1d1499",
   "metadata": {},
   "outputs": [
    {
     "data": {
      "text/plain": [
       "'completed'"
      ]
     },
     "execution_count": 96,
     "metadata": {},
     "output_type": "execute_result"
    }
   ],
   "source": [
    "normalize_name('% Completed')"
   ]
  },
  {
   "cell_type": "code",
   "execution_count": 135,
   "id": "0125ee4f",
   "metadata": {},
   "outputs": [],
   "source": [
    "# exercise 11\n",
    "\n",
    "def cumulative_sum(ls):\n",
    "    result = []\n",
    "    count = 0\n",
    "    for i in ls:\n",
    "        count += i\n",
    "        result.append(count)\n",
    "    \n",
    "    return result\n",
    "        "
   ]
  },
  {
   "cell_type": "code",
   "execution_count": 136,
   "id": "f1bafeba",
   "metadata": {},
   "outputs": [
    {
     "data": {
      "text/plain": [
       "[1, 3, 6, 10]"
      ]
     },
     "execution_count": 136,
     "metadata": {},
     "output_type": "execute_result"
    }
   ],
   "source": [
    "cumulative_sum([1, 2, 3, 4])"
   ]
  },
  {
   "cell_type": "code",
   "execution_count": null,
   "id": "357da5f5",
   "metadata": {},
   "outputs": [],
   "source": []
  }
 ],
 "metadata": {
  "kernelspec": {
   "display_name": "Python 3 (ipykernel)",
   "language": "python",
   "name": "python3"
  },
  "language_info": {
   "codemirror_mode": {
    "name": "ipython",
    "version": 3
   },
   "file_extension": ".py",
   "mimetype": "text/x-python",
   "name": "python",
   "nbconvert_exporter": "python",
   "pygments_lexer": "ipython3",
   "version": "3.9.12"
  }
 },
 "nbformat": 4,
 "nbformat_minor": 5
}
